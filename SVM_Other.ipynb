{
 "cells": [
  {
   "cell_type": "code",
   "execution_count": null,
   "id": "9f9f442b",
   "metadata": {},
   "outputs": [],
   "source": [
    "pip install numpy"
   ]
  },
  {
   "cell_type": "code",
   "execution_count": 1,
   "id": "a7f5f2c6",
   "metadata": {},
   "outputs": [
    {
     "name": "stdout",
     "output_type": "stream",
     "text": [
      "Dataset saved as customer_segmentation.csv\n"
     ]
    }
   ],
   "source": [
    "import numpy as np\n",
    "import pandas as pd\n",
    "from sklearn.datasets import make_classification\n",
    "\n",
    "# Set seed for reproducibility\n",
    "np.random.seed(42)\n",
    "\n",
    "# Generate synthetic data\n",
    "X, y = make_classification(n_samples=1000, n_features=5, n_classes=3, n_informative=4, n_redundant=1, random_state=42)\n",
    "\n",
    "# Convert to a DataFrame\n",
    "df = pd.DataFrame(X, columns=[\"Customer age\", \"Purchase frequency\", \"Average spending\", \"Product category preference\", \"Browsing time\"])\n",
    "\n",
    "# Rescale and shift data to realistic values, then convert to integers\n",
    "df[\"Customer age\"] = ((df[\"Customer age\"] - df[\"Customer age\"].min()) / (df[\"Customer age\"].max() - df[\"Customer age\"].min()) * (65 - 18) + 18).round().astype(int)\n",
    "df[\"Purchase frequency\"] = ((df[\"Purchase frequency\"] - df[\"Purchase frequency\"].min()) / (df[\"Purchase frequency\"].max() - df[\"Purchase frequency\"].min()) * (30 - 1) + 1).round().astype(int)\n",
    "df[\"Average spending\"] = ((df[\"Average spending\"] - df[\"Average spending\"].min()) / (df[\"Average spending\"].max() - df[\"Average spending\"].min()) * (10000 - 100) + 100).round().astype(int)\n",
    "df[\"Browsing time\"] = ((df[\"Browsing time\"] - df[\"Browsing time\"].min()) / (df[\"Browsing time\"].max() - df[\"Browsing time\"].min()) * (180 - 5) + 5).round().astype(int)\n",
    "\n",
    "# Convert Product category preference into categorical values\n",
    "categories = [\"Electronics\", \"Clothing\", \"Home & Kitchen\", \"Books\", \"Sports\"]\n",
    "df[\"Product category preference\"] = np.random.choice(categories, size=len(df))\n",
    "\n",
    "# Convert target variable to integer\n",
    "df['Customer Segment'] = y.astype(int)  # 0: Low-value, 1: Medium-value, 2: High-value\n",
    "\n",
    "# Save to CSV\n",
    "df.to_csv(\"datasets/customer_segmentation.csv\", index=False)\n",
    "\n",
    "print(\"Dataset saved as customer_segmentation.csv\"  )\n"
   ]
  },
  {
   "cell_type": "code",
   "execution_count": null,
   "id": "5b0f878d",
   "metadata": {},
   "outputs": [],
   "source": []
  },
  {
   "cell_type": "code",
   "execution_count": 1,
   "id": "98d5ccba",
   "metadata": {},
   "outputs": [
    {
     "name": "stdout",
     "output_type": "stream",
     "text": [
      "   Customer age  Purchase frequency  Average spending  \\\n",
      "0            49                  19              3731   \n",
      "1            36                  25              5137   \n",
      "2            48                  14              3807   \n",
      "3            47                  18              4049   \n",
      "4            48                  15              3754   \n",
      "\n",
      "  Product category preference  Browsing time  Customer Segment  \n",
      "0                       Books            122                 2  \n",
      "1                      Sports            101                 0  \n",
      "2              Home & Kitchen            112                 1  \n",
      "3                      Sports            121                 2  \n",
      "4                      Sports             80                 1  \n",
      "Customer age                   0\n",
      "Purchase frequency             0\n",
      "Average spending               0\n",
      "Product category preference    0\n",
      "Browsing time                  0\n",
      "Customer Segment               0\n",
      "dtype: int64\n",
      "Customer age                    int64\n",
      "Purchase frequency              int64\n",
      "Average spending                int64\n",
      "Product category preference    object\n",
      "Browsing time                   int64\n",
      "Customer Segment                int64\n",
      "dtype: object\n"
     ]
    }
   ],
   "source": [
    "import pandas as pd\n",
    "\n",
    "# Load dataset\n",
    "df = pd.read_csv(\"datasets/customer_segmentation.csv\")\n",
    "\n",
    "# Display first few rows\n",
    "print(df.head())\n",
    "\n",
    "# Check for missing values\n",
    "print(df.isnull().sum())\n",
    "print(df.dtypes)"
   ]
  },
  {
   "cell_type": "code",
   "execution_count": 2,
   "id": "1c5df218",
   "metadata": {},
   "outputs": [],
   "source": [
    "# Check for duplicate values\n",
    "df.drop_duplicates(inplace=True)"
   ]
  },
  {
   "cell_type": "code",
   "execution_count": 3,
   "id": "c60fd981",
   "metadata": {},
   "outputs": [],
   "source": [
    "from sklearn.preprocessing import StandardScaler\n",
    "\n",
    "# Select only integer columns for feature scaling\n",
    "int_columns = [\"Customer age\", \"Purchase frequency\", \"Average spending\", \"Browsing time\"]\n",
    "X = df[int_columns]  # Features\n",
    "X_scaled = StandardScaler().fit_transform(X)\n",
    "\n",
    "y = df['Customer Segment']  # Target variable"
   ]
  },
  {
   "cell_type": "code",
   "execution_count": 4,
   "id": "b937c830",
   "metadata": {},
   "outputs": [],
   "source": [
    "from sklearn.model_selection import train_test_split\n",
    "\n",
    "X_train, X_test, y_train, y_test = train_test_split(X_scaled, y, test_size=0.2, random_state=42)"
   ]
  },
  {
   "cell_type": "code",
   "execution_count": 8,
   "id": "9e03f63c",
   "metadata": {},
   "outputs": [],
   "source": [
    "from sklearn.svm import SVC\n",
    "\n",
    "# Initialize SVM classifier\n",
    "svm_model = SVC(kernel='linear')  # Try different kernels like 'rbf', 'poly'\n",
    "\n",
    "# Train the model\n",
    "svm_model.fit(X_train, y_train)\n",
    "y_pred_linear = svm_model.predict(X_test)"
   ]
  },
  {
   "cell_type": "code",
   "execution_count": 9,
   "id": "21789bb9",
   "metadata": {},
   "outputs": [],
   "source": [
    "svm_rbf = SVC(kernel='rbf')\n",
    "svm_rbf.fit(X_train, y_train)\n",
    "\n",
    "y_pred_rbf = svm_rbf.predict(X_test)"
   ]
  },
  {
   "cell_type": "code",
   "execution_count": 10,
   "id": "d186d386",
   "metadata": {},
   "outputs": [],
   "source": [
    "svm_sigmoid = SVC(kernel='sigmoid')\n",
    "svm_sigmoid.fit(X_train, y_train)\n",
    "\n",
    "y_pred_sigmoid = svm_sigmoid.predict(X_test)\n"
   ]
  },
  {
   "cell_type": "code",
   "execution_count": 11,
   "id": "5c323291",
   "metadata": {},
   "outputs": [],
   "source": [
    "svm_poly = SVC(kernel='poly', degree=3)  # Default degree = 3, can be changed\n",
    "svm_poly.fit(X_train, y_train)\n",
    "\n",
    "y_pred_poly = svm_poly.predict(X_test)"
   ]
  },
  {
   "cell_type": "code",
   "execution_count": 12,
   "id": "4bc97696",
   "metadata": {},
   "outputs": [
    {
     "name": "stdout",
     "output_type": "stream",
     "text": [
      "\n",
      "🔹 SVM (Linear Kernel) Evaluation:\n",
      "Accuracy: 0.715\n",
      "Classification Report:\n",
      "               precision    recall  f1-score   support\n",
      "\n",
      "           0       0.88      0.69      0.78        72\n",
      "           1       0.69      0.74      0.71        68\n",
      "           2       0.61      0.72      0.66        60\n",
      "\n",
      "    accuracy                           0.71       200\n",
      "   macro avg       0.73      0.72      0.72       200\n",
      "weighted avg       0.73      0.71      0.72       200\n",
      "\n",
      "\n",
      "🔹 SVM (RBF Kernel) Evaluation:\n",
      "Accuracy: 0.78\n",
      "Classification Report:\n",
      "               precision    recall  f1-score   support\n",
      "\n",
      "           0       0.78      0.79      0.79        72\n",
      "           1       0.81      0.81      0.81        68\n",
      "           2       0.75      0.73      0.74        60\n",
      "\n",
      "    accuracy                           0.78       200\n",
      "   macro avg       0.78      0.78      0.78       200\n",
      "weighted avg       0.78      0.78      0.78       200\n",
      "\n",
      "\n",
      "🔹 SVM (Sigmoid Kernel) Evaluation:\n",
      "Accuracy: 0.365\n",
      "Classification Report:\n",
      "               precision    recall  f1-score   support\n",
      "\n",
      "           0       0.31      0.26      0.29        72\n",
      "           1       0.38      0.53      0.44        68\n",
      "           2       0.42      0.30      0.35        60\n",
      "\n",
      "    accuracy                           0.36       200\n",
      "   macro avg       0.37      0.36      0.36       200\n",
      "weighted avg       0.37      0.36      0.36       200\n",
      "\n",
      "\n",
      "🔹 SVM (Polynomial Kernel) Evaluation:\n",
      "Accuracy: 0.595\n",
      "Classification Report:\n",
      "               precision    recall  f1-score   support\n",
      "\n",
      "           0       0.71      0.68      0.70        72\n",
      "           1       0.72      0.43      0.54        68\n",
      "           2       0.45      0.68      0.54        60\n",
      "\n",
      "    accuracy                           0.59       200\n",
      "   macro avg       0.63      0.60      0.59       200\n",
      "weighted avg       0.64      0.59      0.60       200\n",
      "\n"
     ]
    }
   ],
   "source": [
    "from sklearn.metrics import accuracy_score, classification_report\n",
    "\n",
    "def evaluate_model(y_test, y_pred, kernel_type):\n",
    "    print(f\"\\n🔹 SVM ({kernel_type} Kernel) Evaluation:\")\n",
    "    print(\"Accuracy:\", accuracy_score(y_test, y_pred))\n",
    "    print(\"Classification Report:\\n\", classification_report(y_test, y_pred))\n",
    "\n",
    "# Call evaluation function for each model\n",
    "evaluate_model(y_test, y_pred_linear, \"Linear\")\n",
    "evaluate_model(y_test, y_pred_rbf, \"RBF\")\n",
    "evaluate_model(y_test, y_pred_sigmoid, \"Sigmoid\")\n",
    "evaluate_model(y_test, y_pred_poly, \"Polynomial\")"
   ]
  },
  {
   "cell_type": "code",
   "execution_count": 13,
   "id": "680b7c19",
   "metadata": {},
   "outputs": [
    {
     "name": "stdout",
     "output_type": "stream",
     "text": [
      "\n",
      "📊 **SVM Results Analysis in Hinglish** 📊\n",
      "\n",
      "🔹 **Linear Kernel:** Accuracy = 0.715\n",
      "🔹 **RBF Kernel:** Accuracy = 0.780\n",
      "🔹 **Sigmoid Kernel:** Accuracy = 0.365\n",
      "🔹 **Polynomial Kernel:** Accuracy = 0.595\n",
      "\n",
      "✅ **Best Model:** RBF (0.780 accuracy) 🚀\n",
      "❌ **Worst Model:** Sigmoid (0.365 accuracy) 😢\n",
      "\n",
      "📌 **Final Verdict:** Agar best accuracy chahiye, to `RBF Kernel` use karo!\n"
     ]
    }
   ],
   "source": [
    "from sklearn.metrics import accuracy_score, classification_report\n",
    "\n",
    "def evaluate_model(y_test, y_pred, kernel_type):\n",
    "    accuracy = accuracy_score(y_test, y_pred)\n",
    "    report = classification_report(y_test, y_pred, output_dict=True)  # Convert to dict\n",
    "    \n",
    "    return {\n",
    "        \"kernel\": kernel_type,\n",
    "        \"accuracy\": accuracy,\n",
    "        \"report\": report\n",
    "    }\n",
    "\n",
    "# Call evaluation function for each model\n",
    "results = [\n",
    "    evaluate_model(y_test, y_pred_linear, \"Linear\"),\n",
    "    evaluate_model(y_test, y_pred_rbf, \"RBF\"),\n",
    "    evaluate_model(y_test, y_pred_sigmoid, \"Sigmoid\"),\n",
    "    evaluate_model(y_test, y_pred_poly, \"Polynomial\")\n",
    "]\n",
    "\n",
    "# 🔹 Hinglish Analysis Function\n",
    "def analyze_results(results):\n",
    "    best_model = max(results, key=lambda x: x[\"accuracy\"])\n",
    "    worst_model = min(results, key=lambda x: x[\"accuracy\"])\n",
    "\n",
    "    print(\"\\n📊 **SVM Results Analysis in Hinglish** 📊\\n\")\n",
    "    \n",
    "    for res in results:\n",
    "        kernel = res[\"kernel\"]\n",
    "        acc = res[\"accuracy\"]\n",
    "        print(f\"🔹 **{kernel} Kernel:** Accuracy = {acc:.3f}\")\n",
    "    \n",
    "    print(\"\\n✅ **Best Model:**\", best_model[\"kernel\"], f\"({best_model['accuracy']:.3f} accuracy) 🚀\")\n",
    "    print(\"❌ **Worst Model:**\", worst_model[\"kernel\"], f\"({worst_model['accuracy']:.3f} accuracy) 😢\\n\")\n",
    "    \n",
    "    print(f\"📌 **Final Verdict:** Agar best accuracy chahiye, to `{best_model['kernel']} Kernel` use karo!\")\n",
    "\n",
    "# Call Hinglish analysis\n",
    "analyze_results(results)"
   ]
  },
  {
   "cell_type": "code",
   "execution_count": null,
   "id": "7383fb19-cb1c-4bf9-b88b-1edb46a93493",
   "metadata": {},
   "outputs": [],
   "source": []
  }
 ],
 "metadata": {
  "kernelspec": {
   "display_name": "Python 3 (ipykernel)",
   "language": "python",
   "name": "python3"
  },
  "language_info": {
   "codemirror_mode": {
    "name": "ipython",
    "version": 3
   },
   "file_extension": ".py",
   "mimetype": "text/x-python",
   "name": "python",
   "nbconvert_exporter": "python",
   "pygments_lexer": "ipython3",
   "version": "3.12.7"
  }
 },
 "nbformat": 4,
 "nbformat_minor": 5
}
