{
 "cells": [
  {
   "cell_type": "code",
   "execution_count": 1,
   "id": "be9f2ec3-c32d-4e3e-8cb3-ab83d245e6bc",
   "metadata": {},
   "outputs": [],
   "source": [
    "# McCulloch-Pitts Model Implementation for Logic Gates\n",
    "\n",
    "def mcculloch_pitts(inputs, weights, threshold):\n",
    "    # Calculate weighted sum\n",
    "    summation = sum([i * w for i, w in zip(inputs, weights)])\n",
    "    # Activation based on threshold\n",
    "    return 1 if summation >= threshold else 0"
   ]
  },
  {
   "cell_type": "code",
   "execution_count": 2,
   "id": "e330d84b-432d-4763-96c0-08bf5cfe77a0",
   "metadata": {},
   "outputs": [
    {
     "name": "stdout",
     "output_type": "stream",
     "text": [
      "🔹 AND Gate\n",
      "Input: (0, 0) → Output: 0\n",
      "Input: (0, 1) → Output: 0\n",
      "Input: (1, 0) → Output: 0\n",
      "Input: (1, 1) → Output: 1\n"
     ]
    }
   ],
   "source": [
    "# ---------- AND Gate ----------\n",
    "print(\"🔹 AND Gate\")\n",
    "and_inputs = [(0, 0), (0, 1), (1, 0), (1, 1)]\n",
    "for x1, x2 in and_inputs:\n",
    "    output = mcculloch_pitts([x1, x2], [1, 1], threshold=2)\n",
    "    print(f\"Input: ({x1}, {x2}) → Output: {output}\")"
   ]
  },
  {
   "cell_type": "code",
   "execution_count": 3,
   "id": "d1b5c5ca-562d-410a-b7be-5cea75003cf7",
   "metadata": {},
   "outputs": [
    {
     "name": "stdout",
     "output_type": "stream",
     "text": [
      "\n",
      "🔹 OR Gate\n",
      "Input: (0, 0) → Output: 0\n",
      "Input: (0, 1) → Output: 1\n",
      "Input: (1, 0) → Output: 1\n",
      "Input: (1, 1) → Output: 1\n"
     ]
    }
   ],
   "source": [
    "# ---------- OR Gate ----------\n",
    "print(\"\\n🔹 OR Gate\")\n",
    "or_inputs = [(0, 0), (0, 1), (1, 0), (1, 1)]\n",
    "for x1, x2 in or_inputs:\n",
    "    output = mcculloch_pitts([x1, x2], [1, 1], threshold=1)\n",
    "    print(f\"Input: ({x1}, {x2}) → Output: {output}\")"
   ]
  },
  {
   "cell_type": "code",
   "execution_count": 4,
   "id": "c890d01d-7bc3-4708-afca-731c1ba95a28",
   "metadata": {},
   "outputs": [
    {
     "name": "stdout",
     "output_type": "stream",
     "text": [
      "\n",
      "🔹 NOT Gate (simulated with input + bias neuron)\n",
      "Input: 0 → Output: 1\n",
      "Input: 1 → Output: 0\n"
     ]
    }
   ],
   "source": [
    "# ---------- NOT Gate ----------\n",
    "print(\"\\n🔹 NOT Gate (simulated with input + bias neuron)\")\n",
    "def not_gate(x):\n",
    "    # simulate NOT with a fixed bias weight of -1\n",
    "    return mcculloch_pitts([x], [-1], threshold=0)\n",
    "\n",
    "not_inputs = [0, 1]\n",
    "for x in not_inputs:\n",
    "    output = not_gate(x)\n",
    "    print(f\"Input: {x} → Output: {output}\")"
   ]
  },
  {
   "cell_type": "markdown",
   "id": "593ce726-5c88-4104-998c-e2bdfe14fa8a",
   "metadata": {},
   "source": [
    "## 🧠 McCulloch-Pitts Model (Basic Logic Gates)\n",
    "\n",
    "McCulloch-Pitts model ek simple neural model hai jo basic decision-making kar sakta hai jaise logic gates (AND, OR, NOT).\n",
    "\n",
    "Ye model input values ko weight ke saath multiply karta hai, fir unka sum nikalta hai. Agar ye sum threshold se zyada ya barabar hota hai, to output 1 hota hai, warna 0.\n",
    "\n",
    "👇 Yahaan humne 3 logic gates banaye hain:\n",
    "\n",
    "- 🔹 AND Gate: Dono inputs 1 hone par hi output 1 deta hai. Baaki sab cases me 0.\n",
    "  - Input: (0, 0) → Output: 0  \n",
    "  - Input: (0, 1) → Output: 0  \n",
    "  - Input: (1, 0) → Output: 0  \n",
    "  - Input: (1, 1) → Output: 1 ✅\n",
    "\n",
    "- 🔹 OR Gate: Koi bhi ek input 1 ho to output 1 deta hai.\n",
    "  - Input: (0, 0) → Output: 0  \n",
    "  - Input: (0, 1) → Output: 1 ✅  \n",
    "  - Input: (1, 0) → Output: 1 ✅  \n",
    "  - Input: (1, 1) → Output: 1 ✅\n",
    "\n",
    "- 🔹 NOT Gate: Ek hi input hota hai, aur iska output ulta hota hai.\n",
    "  - Input: 0 → Output: 1 ✅  \n",
    "  - Input: 1 → Output: 0 ✅\n",
    "\n",
    "🟢 Ye gates logic ko samajhne ke liye best example hain ki neural network ka base kaise kaam karta hai. Har gate ek neuron jaise kaam karta hai — input aata hai, weight aur threshold apply hota hai, aur fir output decide hota hai.\n"
   ]
  },
  {
   "cell_type": "code",
   "execution_count": null,
   "id": "877e7b26-1b9a-419d-b923-bbea26606ee7",
   "metadata": {},
   "outputs": [],
   "source": []
  }
 ],
 "metadata": {
  "kernelspec": {
   "display_name": "Python 3 (ipykernel)",
   "language": "python",
   "name": "python3"
  },
  "language_info": {
   "codemirror_mode": {
    "name": "ipython",
    "version": 3
   },
   "file_extension": ".py",
   "mimetype": "text/x-python",
   "name": "python",
   "nbconvert_exporter": "python",
   "pygments_lexer": "ipython3",
   "version": "3.12.7"
  }
 },
 "nbformat": 4,
 "nbformat_minor": 5
}
