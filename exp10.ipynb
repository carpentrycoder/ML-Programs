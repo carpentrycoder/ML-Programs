{
 "cells": [
  {
   "cell_type": "markdown",
   "id": "1aa54bdf-e578-4250-8a66-913821e4ad24",
   "metadata": {},
   "source": [
    "## Error Backpropagation Perceptron Training Algorithm"
   ]
  },
  {
   "cell_type": "code",
   "execution_count": 1,
   "id": "bc9530c0-ebe0-497f-9ddd-bf4cff0eb005",
   "metadata": {},
   "outputs": [],
   "source": [
    "import numpy as np\n",
    "import matplotlib.pyplot as plt"
   ]
  },
  {
   "cell_type": "code",
   "execution_count": 2,
   "id": "9eca87a1-0c42-4773-89fb-6d4eded94400",
   "metadata": {},
   "outputs": [],
   "source": [
    "def step_function(x):\n",
    "    return 1 if x >= 0 else 0"
   ]
  },
  {
   "cell_type": "code",
   "execution_count": 27,
   "id": "122d756b-60e6-4a26-b635-8818853e8587",
   "metadata": {
    "jupyter": {
     "source_hidden": true
    }
   },
   "outputs": [],
   "source": [
    "class Perceptron:\n",
    "    def __init__(self, input_size, learning_rate=0.1):\n",
    "        # Initialize the weights with random small numbers\n",
    "        self.weights = np.random.randn(input_size + 1)  # Including bias term\n",
    "        self.learning_rate = learning_rate\n",
    "\n",
    "    def predict(self, inputs):\n",
    "        # Calculate the weighted sum and apply the activation function\n",
    "        summation = np.dot(inputs, self.weights[1:]) + self.weights[0]  # Bias is the first weight\n",
    "        return step_function(summation)\n",
    "\n",
    "    def train(self, training_inputs, labels, epochs=5):\n",
    "        for epoch in range(epochs):\n",
    "            for inputs, label in zip(training_inputs, labels):\n",
    "                prediction = self.predict(inputs)\n",
    "                # Update weights based on the error\n",
    "                error = label - prediction\n",
    "                self.weights[1:] += self.learning_rate * error * inputs  # Update weights\n",
    "                self.weights[0] += self.learning_rate * error  # Update bias\n"
   ]
  },
  {
   "cell_type": "markdown",
   "id": "39206be1-5d35-434c-b0af-e1e6a9d804f1",
   "metadata": {},
   "source": [
    "#### OR gate Implementation"
   ]
  },
  {
   "cell_type": "code",
   "execution_count": 28,
   "id": "d2340ed9-29c4-4145-a053-66adb3787a5d",
   "metadata": {},
   "outputs": [],
   "source": [
    "# OR Gate Dataset (Inputs, Expected Output)\n",
    "X = np.array([[0, 0], [0, 1], [1, 0], [1, 1]])  # Input data (X₁, X₂)\n",
    "y = np.array([0, 1, 1, 1])  # Output labels (1 if OR logic is true)"
   ]
  },
  {
   "cell_type": "code",
   "execution_count": 34,
   "id": "18943293-717e-45e1-935e-ef4c2ebf71f6",
   "metadata": {},
   "outputs": [
    {
     "name": "stdout",
     "output_type": "stream",
     "text": [
      "OR Gate\n",
      "Input  | Expected | Prediction | Correct?\n",
      "[0 0]  |    0     |     0      | ✅ Yes\n",
      "[0 1]  |    1     |     1      | ✅ Yes\n",
      "[1 0]  |    1     |     1      | ✅ Yes\n",
      "[1 1]  |    1     |     1      | ✅ Yes\n"
     ]
    }
   ],
   "source": [
    "# Create a perceptron model with 2 inputs (for X₁, X₂)\n",
    "perceptron = Perceptron(input_size=2)\n",
    "\n",
    "# Train the perceptron\n",
    "perceptron.train(X, y, epochs=10)\n",
    "\n",
    "print(\"OR Gate\")\n",
    "# Display predictions in table format\n",
    "print(\"Input  | Expected | Prediction | Correct?\")\n",
    "for xi, yi in zip(X, y):\n",
    "    pred = perceptron.predict(xi)\n",
    "    correct = \"✅ Yes\" if pred == yi else \"❌ No\"\n",
    "    print(f\"{xi}  |    {yi}     |     {pred}      | {correct}\")"
   ]
  },
  {
   "cell_type": "markdown",
   "id": "7d8be51a-ac25-4b6a-9777-3acf8db645cc",
   "metadata": {},
   "source": [
    "#### AND gate implementation"
   ]
  },
  {
   "cell_type": "code",
   "execution_count": 30,
   "id": "98a956ae-0eeb-4f1e-8102-271781ef2b21",
   "metadata": {},
   "outputs": [],
   "source": [
    "# AND Gate Dataset (Inputs, Expected Output)\n",
    "X_and = np.array([[0, 0], [0, 1], [1, 0], [1, 1]])  # Input data (X₁, X₂)\n",
    "y_and = np.array([0, 0, 0, 1])  # Output labels (1 if AND logic is true)"
   ]
  },
  {
   "cell_type": "code",
   "execution_count": 39,
   "id": "97b83a3a-8d13-4d58-825d-f97558726431",
   "metadata": {},
   "outputs": [
    {
     "name": "stdout",
     "output_type": "stream",
     "text": [
      "AND Gate\n",
      "Input  | Expected | Prediction | Correct?\n",
      "[0 0]  |    0     |     0      | ✅ Yes\n",
      "[0 1]  |    0     |     1      | ❌ No\n",
      "[1 0]  |    0     |     1      | ❌ No\n",
      "[1 1]  |    1     |     1      | ✅ Yes\n"
     ]
    }
   ],
   "source": [
    "# Create a perceptron model with 2 inputs (for X₁, X₂)\n",
    "perceptron_and = Perceptron(input_size=2)\n",
    "\n",
    "# Train the perceptron\n",
    "perceptron_and.train(X_and, y_and, epochs=10)\n",
    "\n",
    "print(\"AND Gate\")\n",
    "# Display predictions in table format\n",
    "print(\"Input  | Expected | Prediction | Correct?\")\n",
    "for xi, yi in zip(X_and, y_and):\n",
    "    pred = perceptron.predict(xi)\n",
    "    correct = \"✅ Yes\" if pred == yi else \"❌ No\"\n",
    "    print(f\"{xi}  |    {yi}     |     {pred}      | {correct}\")"
   ]
  },
  {
   "cell_type": "markdown",
   "id": "41d0f082-561f-429f-8e42-5c499e72ee8c",
   "metadata": {},
   "source": [
    "#### XOR gate implementation"
   ]
  },
  {
   "cell_type": "code",
   "execution_count": 32,
   "id": "186ea967-d574-4cde-a8b2-60ea707fc8f0",
   "metadata": {},
   "outputs": [],
   "source": [
    "# XOR Gate Dataset (Inputs, Expected Output)\n",
    "X_xor = np.array([[0, 0], [0, 1], [1, 0], [1, 1]])  # Input data (X₁, X₂)\n",
    "y_xor = np.array([0, 1, 1, 0])  # Output labels (1 if XOR logic is true)"
   ]
  },
  {
   "cell_type": "code",
   "execution_count": 33,
   "id": "0c0238ff-94da-4904-863d-514b786eea07",
   "metadata": {},
   "outputs": [
    {
     "name": "stdout",
     "output_type": "stream",
     "text": [
      "XOR Gate\n",
      "Input  | Expected | Prediction | Correct?\n",
      "[0 0]  |    0     |     0      | ✅ Yes\n",
      "[0 1]  |    1     |     1      | ✅ Yes\n",
      "[1 0]  |    1     |     1      | ✅ Yes\n",
      "[1 1]  |    0     |     1      | ❌ No\n"
     ]
    }
   ],
   "source": [
    "# Create a perceptron model with 2 inputs (for X₁, X₂)\n",
    "perceptron_xor = Perceptron(input_size=2)\n",
    "\n",
    "# Train the perceptron\n",
    "perceptron_xor.train(X_xor, y_xor, epochs=10)\n",
    "\n",
    "# Display predictions in table format\n",
    "print(\"XOR Gate\")\n",
    "print(\"Input  | Expected | Prediction | Correct?\")\n",
    "for xi, yi in zip(X_xor, y_xor):\n",
    "    pred = perceptron.predict(xi)\n",
    "    correct = \"✅ Yes\" if pred == yi else \"❌ No\"\n",
    "    print(f\"{xi}  |    {yi}     |     {pred}      | {correct}\")"
   ]
  },
  {
   "cell_type": "markdown",
   "id": "7b0f09de-dd1b-441f-86c7-db40366ba1fb",
   "metadata": {},
   "source": [
    "---\n",
    "#### 🔍 Perceptron vs Logic Gates – Easy Explanation\n",
    "\n",
    "A **Single-Layer Perceptron** can only solve problems that are **linearly separable** (i.e., data points can be separated using a straight line).\n",
    "\n",
    "Let’s see how it performs on different logic gates:\n",
    "\n",
    "---\n",
    "\n",
    "### ✅ OR Gate\n",
    "\n",
    "- **Logic**: Output is `1` if *any* input is `1`\n",
    "- **Linearly Separable?** ✔️ Yes\n",
    "- **Perceptron Result**: ✅ Works Perfectly\n",
    "\n",
    "| Input   | Expected | Prediction | Correct? |\n",
    "|---------|----------|------------|----------|\n",
    "| [0, 0]  |    0     |     0      | ✅ Yes   |\n",
    "| [0, 1]  |    1     |     1      | ✅ Yes   |\n",
    "| [1, 0]  |    1     |     1      | ✅ Yes   |\n",
    "| [1, 1]  |    1     |     1      | ✅ Yes   |\n",
    "\n",
    "---\n",
    "\n",
    "### ✅ AND Gate\n",
    "\n",
    "- **Logic**: Output is `1` only if *both* inputs are `1`\n",
    "- **Linearly Separable?** ✔️ Yes\n",
    "- **Perceptron Result**: ⚠️ Sometimes partially correct (depends on training)\n",
    "\n",
    "| Input   | Expected | Prediction | Correct? |\n",
    "|---------|----------|------------|----------|\n",
    "| [0, 0]  |    0     |     0      | ✅ Yes   |\n",
    "| [0, 1]  |    0     |     1      | ❌ No    |\n",
    "| [1, 0]  |    0     |     1      | ❌ No    |\n",
    "| [1, 1]  |    1     |     1      | ✅ Yes   |\n",
    "\n",
    "---\n",
    "\n",
    "### ❌ XOR Gate\n",
    "\n",
    "- **Logic**: Output is `1` if inputs are *different*\n",
    "- **Linearly Separable?** ❌ No\n",
    "- **Perceptron Result**: ❌ Fails to learn pattern\n",
    "\n",
    "| Input   | Expected | Prediction | Correct? |\n",
    "|---------|----------|------------|----------|\n",
    "| [0, 0]  |    0     |     0      | ✅ Yes   |\n",
    "| [0, 1]  |    1     |     1      | ✅ Yes   |\n",
    "| [1, 0]  |    1     |     1      | ✅ Yes   |\n",
    "| [1, 1]  |    0     |     1      | ❌ No    |\n",
    "\n",
    "---\n",
    "\n",
    "### 🔚 Conclusion\n",
    "\n",
    "| Logic Gate | Linearly Separable | Perceptron Works? |\n",
    "|------------|--------------------|-------------------|\n",
    "| OR         | ✅ Yes             | ✅ Yes            |\n",
    "| AND        | ✅ Yes             | ⚠️ Sometimes      |\n",
    "| XOR        | ❌ No              | ❌ Fails          |\n",
    "\n",
    "➡️ **To solve XOR**, we need a **Multi-Layer Perceptron (MLP)** or a more advanced neural network.\n",
    "\n"
   ]
  },
  {
   "cell_type": "code",
   "execution_count": null,
   "id": "da1a0330-1ac9-4d34-9802-e6251035b0c5",
   "metadata": {},
   "outputs": [],
   "source": []
  }
 ],
 "metadata": {
  "kernelspec": {
   "display_name": "Python 3 (ipykernel)",
   "language": "python",
   "name": "python3"
  },
  "language_info": {
   "codemirror_mode": {
    "name": "ipython",
    "version": 3
   },
   "file_extension": ".py",
   "mimetype": "text/x-python",
   "name": "python",
   "nbconvert_exporter": "python",
   "pygments_lexer": "ipython3",
   "version": "3.12.7"
  }
 },
 "nbformat": 4,
 "nbformat_minor": 5
}
