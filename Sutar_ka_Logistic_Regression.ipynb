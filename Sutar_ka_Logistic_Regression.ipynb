{
 "cells": [
  {
   "cell_type": "code",
   "execution_count": 1,
   "id": "aa2522d8",
   "metadata": {
    "id": "aa2522d8"
   },
   "outputs": [],
   "source": [
    "# ✅ Step 1: Import Required Libraries\n",
    "import pandas as pd  # Data handling\n",
    "import numpy as np   # Numerical operations\n",
    "import seaborn as sns  # Data visualization\n",
    "import matplotlib.pyplot as plt  # Plotting graphs\n",
    "from sklearn.model_selection import train_test_split  # Splitting data\n",
    "from sklearn.preprocessing import LabelEncoder, StandardScaler  # Encoding & Scaling\n",
    "from sklearn.linear_model import LogisticRegression  # ML model\n",
    "from sklearn.metrics import accuracy_score, confusion_matrix, classification_report  # Model evaluation"
   ]
  },
  {
   "cell_type": "code",
   "execution_count": 2,
   "id": "ba83a538",
   "metadata": {
    "colab": {
     "base_uri": "https://localhost:8080/"
    },
    "id": "ba83a538",
    "outputId": "6c885b8c-f95c-4be5-81c7-87dc33df6913"
   },
   "outputs": [
    {
     "name": "stdout",
     "output_type": "stream",
     "text": [
      "   StudentID  CGPA  Internships  Projects  Workshops/Certifications  \\\n",
      "0          1   7.5            1         1                         1   \n",
      "1          2   8.9            0         3                         2   \n",
      "2          3   7.3            1         2                         2   \n",
      "3          4   7.5            1         1                         2   \n",
      "4          5   8.3            1         2                         2   \n",
      "\n",
      "   AptitudeTestScore  SoftSkillsRating ExtracurricularActivities  \\\n",
      "0                 65               4.4                        No   \n",
      "1                 90               4.0                       Yes   \n",
      "2                 82               4.8                       Yes   \n",
      "3                 85               4.4                       Yes   \n",
      "4                 86               4.5                       Yes   \n",
      "\n",
      "  PlacementTraining  SSC_Marks  HSC_Marks PlacementStatus  \n",
      "0                No         61         79       NotPlaced  \n",
      "1               Yes         78         82          Placed  \n",
      "2                No         79         80       NotPlaced  \n",
      "3               Yes         81         80          Placed  \n",
      "4               Yes         74         88          Placed  \n"
     ]
    }
   ],
   "source": [
    "csv_path = \"datasets/students_placement.csv\"\n",
    "df = pd.read_csv(csv_path)\n",
    "print(df.head())\n"
   ]
  },
  {
   "cell_type": "markdown",
   "id": "2552bda2",
   "metadata": {
    "id": "2552bda2"
   },
   "source": [
    "✅ Step 2: Exploratory Data Analysis (EDA) & Preprocessing 🔍"
   ]
  },
  {
   "cell_type": "code",
   "execution_count": 3,
   "id": "d4a09829",
   "metadata": {
    "colab": {
     "base_uri": "https://localhost:8080/"
    },
    "id": "d4a09829",
    "outputId": "e6fcc7c4-dca2-474b-e7ed-db47be7f1b33"
   },
   "outputs": [
    {
     "name": "stdout",
     "output_type": "stream",
     "text": [
      "---Information Section---\n",
      "<class 'pandas.core.frame.DataFrame'>\n",
      "RangeIndex: 10000 entries, 0 to 9999\n",
      "Data columns (total 12 columns):\n",
      " #   Column                     Non-Null Count  Dtype  \n",
      "---  ------                     --------------  -----  \n",
      " 0   StudentID                  10000 non-null  int64  \n",
      " 1   CGPA                       10000 non-null  float64\n",
      " 2   Internships                10000 non-null  int64  \n",
      " 3   Projects                   10000 non-null  int64  \n",
      " 4   Workshops/Certifications   10000 non-null  int64  \n",
      " 5   AptitudeTestScore          10000 non-null  int64  \n",
      " 6   SoftSkillsRating           10000 non-null  float64\n",
      " 7   ExtracurricularActivities  10000 non-null  object \n",
      " 8   PlacementTraining          10000 non-null  object \n",
      " 9   SSC_Marks                  10000 non-null  int64  \n",
      " 10  HSC_Marks                  10000 non-null  int64  \n",
      " 11  PlacementStatus            10000 non-null  object \n",
      "dtypes: float64(2), int64(7), object(3)\n",
      "memory usage: 937.6+ KB\n",
      "None\n",
      "\n",
      "---Describe section---\n",
      "         StudentID          CGPA   Internships      Projects  \\\n",
      "count  10000.00000  10000.000000  10000.000000  10000.000000   \n",
      "mean    5000.50000      7.698010      1.049200      2.026600   \n",
      "std     2886.89568      0.640131      0.665901      0.867968   \n",
      "min        1.00000      6.500000      0.000000      0.000000   \n",
      "25%     2500.75000      7.400000      1.000000      1.000000   \n",
      "50%     5000.50000      7.700000      1.000000      2.000000   \n",
      "75%     7500.25000      8.200000      1.000000      3.000000   \n",
      "max    10000.00000      9.100000      2.000000      3.000000   \n",
      "\n",
      "       Workshops/Certifications  AptitudeTestScore  SoftSkillsRating  \\\n",
      "count              10000.000000       10000.000000      10000.000000   \n",
      "mean                   1.013200          79.449900          4.323960   \n",
      "std                    0.904272           8.159997          0.411622   \n",
      "min                    0.000000          60.000000          3.000000   \n",
      "25%                    0.000000          73.000000          4.000000   \n",
      "50%                    1.000000          80.000000          4.400000   \n",
      "75%                    2.000000          87.000000          4.700000   \n",
      "max                    3.000000          90.000000          4.800000   \n",
      "\n",
      "          SSC_Marks     HSC_Marks  \n",
      "count  10000.000000  10000.000000  \n",
      "mean      69.159400     74.501500  \n",
      "std       10.430459      8.919527  \n",
      "min       55.000000     57.000000  \n",
      "25%       59.000000     67.000000  \n",
      "50%       70.000000     73.000000  \n",
      "75%       78.000000     83.000000  \n",
      "max       90.000000     88.000000  \n"
     ]
    }
   ],
   "source": [
    "print(\"---Information Section---\")\n",
    "print(df.info())\n",
    "print(\"\\n---Describe section---\")\n",
    "print(df.describe())"
   ]
  },
  {
   "cell_type": "code",
   "execution_count": 4,
   "id": "60adea78",
   "metadata": {
    "id": "60adea78"
   },
   "outputs": [],
   "source": [
    "df = df.drop_duplicates()"
   ]
  },
  {
   "cell_type": "code",
   "execution_count": 5,
   "id": "b375dfb6",
   "metadata": {
    "colab": {
     "base_uri": "https://localhost:8080/",
     "height": 430
    },
    "id": "b375dfb6",
    "outputId": "ebc0f7b1-db6f-479b-fcef-95b7293a42ef",
    "scrolled": true
   },
   "outputs": [
    {
     "data": {
      "image/png": "[encoded data removed]",
      "text/plain": [
       "<Figure size 640x480 with 1 Axes>"
      ]
     },
     "metadata": {},
     "output_type": "display_data"
    }
   ],
   "source": [
    "sns.boxplot(df[['AptitudeTestScore', 'SSC_Marks', 'HSC_Marks']])\n",
    "plt.show()"
   ]
  },
  {
   "cell_type": "code",
   "execution_count": 6,
   "id": "e4c33cc0",
   "metadata": {
    "colab": {
     "base_uri": "https://localhost:8080/"
    },
    "id": "e4c33cc0",
    "outputId": "a20e6b9a-f610-4f0e-ae09-087e5afd45a6"
   },
   "outputs": [
    {
     "name": "stdout",
     "output_type": "stream",
     "text": [
      "   PlacementStatus  PlacementTraining  ExtracurricularActivities\n",
      "0                0                  0                          0\n",
      "1                1                  1                          1\n",
      "2                0                  0                          1\n",
      "3                1                  1                          1\n",
      "4                1                  1                          1\n"
     ]
    }
   ],
   "source": [
    "#Categorical data encoding (Placement Status, Placement Training, Extracurricular Activities)\n",
    "\n",
    "le = LabelEncoder()\n",
    "df['PlacementStatus'] = le.fit_transform(df['PlacementStatus'])  # Placed (1), Not Placed (0)\n",
    "df['PlacementTraining'] = le.fit_transform(df['PlacementTraining'])  # Yes (1), No (0)\n",
    "df['ExtracurricularActivities'] = le.fit_transform(df['ExtracurricularActivities'])  # Yes (1), No (0)\n",
    "\n",
    "# Print first 5 rows to check encoding\n",
    "print(df[['PlacementStatus', 'PlacementTraining', 'ExtracurricularActivities']].head())"
   ]
  },
  {
   "cell_type": "code",
   "execution_count": 7,
   "id": "2ea3a8d9",
   "metadata": {
    "colab": {
     "base_uri": "https://localhost:8080/"
    },
    "id": "2ea3a8d9",
    "outputId": "aabea6db-985e-440e-a3c8-f34320614210"
   },
   "outputs": [
    {
     "name": "stdout",
     "output_type": "stream",
     "text": [
      "🔹 Mean Values:\n",
      "CGPA mean = 7.7\n",
      "Internships mean = 1.0\n",
      "Projects mean = 2.0\n",
      "Workshops/Certifications mean = 1.0\n",
      "AptitudeTestScore mean = 79.4\n",
      "SoftSkillsRating mean = 4.3\n",
      "SSC_Marks mean = 69.2\n",
      "HSC_Marks mean = 74.5\n",
      "\n",
      "🔹 Standard Deviation Values:\n",
      "CGPA std deviation = 0.6\n",
      "Internships std deviation = 0.7\n",
      "Projects std deviation = 0.9\n",
      "Workshops/Certifications std deviation = 0.9\n",
      "AptitudeTestScore std deviation = 8.2\n",
      "SoftSkillsRating std deviation = 0.4\n",
      "SSC_Marks std deviation = 10.4\n",
      "HSC_Marks std deviation = 8.9\n"
     ]
    }
   ],
   "source": [
    "# Initialize StandardScaler\n",
    "scaler = StandardScaler()\n",
    "\n",
    "# Select numerical columns\n",
    "numerical_cols = ['CGPA', 'Internships', 'Projects', 'Workshops/Certifications',\n",
    "                  'AptitudeTestScore', 'SoftSkillsRating', 'SSC_Marks', 'HSC_Marks']\n",
    "\n",
    "# Fit the scaler on the numerical columns\n",
    "scaler.fit(df[numerical_cols])\n",
    "\n",
    "# Print mean and standard deviation\n",
    "# Calculate mean and standard deviation\n",
    "means = df[numerical_cols].mean()\n",
    "std_devs = df[numerical_cols].std()\n",
    "\n",
    "# Print in sorted format\n",
    "print(\"🔹 Mean Values:\")\n",
    "for col, mean in means.items():\n",
    "    print(f\"{col} mean = {mean:.1f}\")\n",
    "\n",
    "print(\"\\n🔹 Standard Deviation Values:\")\n",
    "for col, std in std_devs.items():\n",
    "    print(f\"{col} std deviation = {std:.1f}\")"
   ]
  },
  {
   "cell_type": "code",
   "execution_count": 12,
   "id": "4c6cac8a",
   "metadata": {
    "colab": {
     "base_uri": "https://localhost:8080/",
     "height": 472
    },
    "id": "4c6cac8a",
    "outputId": "6bd26a2f-6517-42e1-d9ba-bfa9ce9131a4"
   },
   "outputs": [
    {
     "data": {
      "image/png": "[encoded data removed]",
      "text/plain": [
       "<Figure size 640x480 with 1 Axes>"
      ]
     },
     "metadata": {},
     "output_type": "display_data"
    }
   ],
   "source": [
    "importance = model.coef_[0]\n",
    "feature_names = X.columns\n",
    "plt.barh(feature_names, importance)\n",
    "plt.xlabel(\"Coefficient Value\")\n",
    "plt.title(\"Feature Importance in Logistic Regression\")\n",
    "plt.show()"
   ]
  },
  {
   "cell_type": "markdown",
   "id": "3bc870a7",
   "metadata": {
    "id": "3bc870a7"
   },
   "source": [
    "✅ Step 3: Data Splitting ✂️\n"
   ]
  },
  {
   "cell_type": "code",
   "execution_count": 9,
   "id": "3e2743a2",
   "metadata": {
    "colab": {
     "base_uri": "https://localhost:8080/"
    },
    "id": "3e2743a2",
    "outputId": "d709a5cc-e8fc-4a0d-9c2d-339eedf5fef6"
   },
   "outputs": [
    {
     "name": "stdout",
     "output_type": "stream",
     "text": [
      "\n",
      "📌 **First 5 Rows of Scaled Data:**\n",
      "       CGPA  Internships  Projects  AptitudeTestScore  SSC_Marks  \\\n",
      "0 -0.309343    -0.073889 -1.182822          -1.770910  -0.782306   \n",
      "1  1.877818    -1.575689  1.121526           1.292970   0.847618   \n",
      "2 -0.621794    -0.073889 -0.030648           0.312528   0.943496   \n",
      "3 -0.309343    -0.073889 -1.182822           0.680194   1.135251   \n",
      "4  0.940464    -0.073889 -0.030648           0.802749   0.464106   \n",
      "\n",
      "   PlacementTraining  \n",
      "0          -1.651836  \n",
      "1           0.605387  \n",
      "2          -1.651836  \n",
      "3           0.605387  \n",
      "4           0.605387  \n"
     ]
    }
   ],
   "source": [
    "le = LabelEncoder()\n",
    "df['PlacementTraining'] = le.fit_transform(df['PlacementTraining'])  # Yes → 1, No → 0\n",
    "df['ExtracurricularActivities'] = le.fit_transform(df['ExtracurricularActivities'])  # Yes → 1, No → 0\n",
    "df['PlacementStatus'] = le.fit_transform(df['PlacementStatus'])  # Placed → 1, Not Placed → 0\n",
    "\n",
    "# Final Feature Selection\n",
    "X = df[['CGPA', 'Internships', 'Projects', 'AptitudeTestScore',\n",
    "        'SSC_Marks', 'PlacementTraining']]\n",
    "\n",
    "y = df['PlacementStatus']\n",
    "\n",
    "# Standardize Numerical Features\n",
    "scaler = StandardScaler()\n",
    "X_scaled = scaler.fit_transform(X)\n",
    "\n",
    "# Convert Scaled Data Back to DataFrame\n",
    "X_scaled_df = pd.DataFrame(X_scaled, columns=X.columns)\n",
    "\n",
    "# Print Sorted Mean & Std Deviation\n",
    "means = X.mean().sort_values()\n",
    "std_devs = X.std().sort_values()\n",
    "\n",
    "# Display First 5 Rows of Scaled Data\n",
    "print(\"\\n📌 **First 5 Rows of Scaled Data:**\")\n",
    "print(X_scaled_df.head())"
   ]
  },
  {
   "cell_type": "code",
   "execution_count": 10,
   "id": "4b8733ca",
   "metadata": {
    "colab": {
     "base_uri": "https://localhost:8080/"
    },
    "id": "4b8733ca",
    "outputId": "6a489125-485b-46fb-e96e-386c1d2f23f6"
   },
   "outputs": [
    {
     "name": "stdout",
     "output_type": "stream",
     "text": [
      "Train dataset size: 8000\n",
      "Test dataset size: 2000\n",
      "Total dataset size: 10000\n"
     ]
    }
   ],
   "source": [
    "X_train, X_test, y_train, y_test = train_test_split(X, y, test_size=0.2, random_state=42)\n",
    "print(\"Train dataset size:\", len(X_train))\n",
    "print(\"Test dataset size:\", len(X_test))\n",
    "print(\"Total dataset size:\", df.shape[0])"
   ]
  },
  {
   "cell_type": "code",
   "execution_count": 11,
   "id": "a5ee6b13",
   "metadata": {
    "colab": {
     "base_uri": "https://localhost:8080/",
     "height": 80
    },
    "id": "a5ee6b13",
    "outputId": "88cc864b-b62d-41b7-f36f-02d2f04b4b4c"
   },
   "outputs": [
    {
     "data": {
      "text/html": [
       "<style>#sk-container-id-1 {color: black;}#sk-container-id-1 pre{padding: 0;}#sk-container-id-1 div.sk-toggleable {background-color: white;}#sk-container-id-1 label.sk-toggleable__label {cursor: pointer;display: block;width: 100%;margin-bottom: 0;padding: 0.3em;box-sizing: border-box;text-align: center;}#sk-container-id-1 label.sk-toggleable__label-arrow:before {content: \"▸\";float: left;margin-right: 0.25em;color: #696969;}#sk-container-id-1 label.sk-toggleable__label-arrow:hover:before {color: black;}#sk-container-id-1 div.sk-estimator:hover label.sk-toggleable__label-arrow:before {color: black;}#sk-container-id-1 div.sk-toggleable__content {max-height: 0;max-width: 0;overflow: hidden;text-align: left;background-color: #f0f8ff;}#sk-container-id-1 div.sk-toggleable__content pre {margin: 0.2em;color: black;border-radius: 0.25em;background-color: #f0f8ff;}#sk-container-id-1 input.sk-toggleable__control:checked~div.sk-toggleable__content {max-height: 200px;max-width: 100%;overflow: auto;}#sk-container-id-1 input.sk-toggleable__control:checked~label.sk-toggleable__label-arrow:before {content: \"▾\";}#sk-container-id-1 div.sk-estimator input.sk-toggleable__control:checked~label.sk-toggleable__label {background-color: #d4ebff;}#sk-container-id-1 div.sk-label input.sk-toggleable__control:checked~label.sk-toggleable__label {background-color: #d4ebff;}#sk-container-id-1 input.sk-hidden--visually {border: 0;clip: rect(1px 1px 1px 1px);clip: rect(1px, 1px, 1px, 1px);height: 1px;margin: -1px;overflow: hidden;padding: 0;position: absolute;width: 1px;}#sk-container-id-1 div.sk-estimator {font-family: monospace;background-color: #f0f8ff;border: 1px dotted black;border-radius: 0.25em;box-sizing: border-box;margin-bottom: 0.5em;}#sk-container-id-1 div.sk-estimator:hover {background-color: #d4ebff;}#sk-container-id-1 div.sk-parallel-item::after {content: \"\";width: 100%;border-bottom: 1px solid gray;flex-grow: 1;}#sk-container-id-1 div.sk-label:hover label.sk-toggleable__label {background-color: #d4ebff;}#sk-container-id-1 div.sk-serial::before {content: \"\";position: absolute;border-left: 1px solid gray;box-sizing: border-box;top: 0;bottom: 0;left: 50%;z-index: 0;}#sk-container-id-1 div.sk-serial {display: flex;flex-direction: column;align-items: center;background-color: white;padding-right: 0.2em;padding-left: 0.2em;position: relative;}#sk-container-id-1 div.sk-item {position: relative;z-index: 1;}#sk-container-id-1 div.sk-parallel {display: flex;align-items: stretch;justify-content: center;background-color: white;position: relative;}#sk-container-id-1 div.sk-item::before, #sk-container-id-1 div.sk-parallel-item::before {content: \"\";position: absolute;border-left: 1px solid gray;box-sizing: border-box;top: 0;bottom: 0;left: 50%;z-index: -1;}#sk-container-id-1 div.sk-parallel-item {display: flex;flex-direction: column;z-index: 1;position: relative;background-color: white;}#sk-container-id-1 div.sk-parallel-item:first-child::after {align-self: flex-end;width: 50%;}#sk-container-id-1 div.sk-parallel-item:last-child::after {align-self: flex-start;width: 50%;}#sk-container-id-1 div.sk-parallel-item:only-child::after {width: 0;}#sk-container-id-1 div.sk-dashed-wrapped {border: 1px dashed gray;margin: 0 0.4em 0.5em 0.4em;box-sizing: border-box;padding-bottom: 0.4em;background-color: white;}#sk-container-id-1 div.sk-label label {font-family: monospace;font-weight: bold;display: inline-block;line-height: 1.2em;}#sk-container-id-1 div.sk-label-container {text-align: center;}#sk-container-id-1 div.sk-container {/* jupyter's `normalize.less` sets `[hidden] { display: none; }` but bootstrap.min.css set `[hidden] { display: none !important; }` so we also need the `!important` here to be able to override the default hidden behavior on the sphinx rendered scikit-learn.org. See: https://github.com/scikit-learn/scikit-learn/issues/21755 */display: inline-block !important;position: relative;}#sk-container-id-1 div.sk-text-repr-fallback {display: none;}</style><div id=\"sk-container-id-1\" class=\"sk-top-container\"><div class=\"sk-text-repr-fallback\"><pre>LogisticRegression()</pre><b>In a Jupyter environment, please rerun this cell to show the HTML representation or trust the notebook. <br />On GitHub, the HTML representation is unable to render, please try loading this page with nbviewer.org.</b></div><div class=\"sk-container\" hidden><div class=\"sk-item\"><div class=\"sk-estimator sk-toggleable\"><input class=\"sk-toggleable__control sk-hidden--visually\" id=\"sk-estimator-id-1\" type=\"checkbox\" checked><label for=\"sk-estimator-id-1\" class=\"sk-toggleable__label sk-toggleable__label-arrow\">LogisticRegression</label><div class=\"sk-toggleable__content\"><pre>LogisticRegression()</pre></div></div></div></div></div>"
      ],
      "text/plain": [
       "LogisticRegression()"
      ]
     },
     "execution_count": 11,
     "metadata": {},
     "output_type": "execute_result"
    }
   ],
   "source": [
    "#✅ Step 4: Choose & Train Logistic Regression Model 🤖\n",
    "model = LogisticRegression()\n",
    "model.fit(X_train, y_train)"
   ]
  },
  {
   "cell_type": "code",
   "execution_count": 13,
   "id": "367bfc93",
   "metadata": {
    "colab": {
     "base_uri": "https://localhost:8080/"
    },
    "id": "367bfc93",
    "outputId": "753398ed-0890-4803-ebf1-ef8936e6cf06"
   },
   "outputs": [
    {
     "name": "stdout",
     "output_type": "stream",
     "text": [
      "Number of test samples: 2000\n",
      "Duplicate rows in dataset: 0\n"
     ]
    }
   ],
   "source": [
    "print(\"Number of test samples:\", len(y_test))\n",
    "print(\"Duplicate rows in dataset:\", df.duplicated().sum())"
   ]
  },
  {
   "cell_type": "code",
   "execution_count": 14,
   "id": "dae68744",
   "metadata": {
    "colab": {
     "base_uri": "https://localhost:8080/"
    },
    "id": "dae68744",
    "outputId": "e94acd8d-de23-4a47-8dbe-6bdad6ce2df4"
   },
   "outputs": [
    {
     "name": "stdout",
     "output_type": "stream",
     "text": [
      "[0 0 0 ... 1 1 0]\n"
     ]
    }
   ],
   "source": [
    "y_pred = model.predict(X_test)\n",
    "print(y_pred)"
   ]
  },
  {
   "cell_type": "code",
   "execution_count": 15,
   "id": "e9d346c3",
   "metadata": {
    "colab": {
     "base_uri": "https://localhost:8080/"
    },
    "id": "e9d346c3",
    "outputId": "73a1f4f6-bdd7-4951-af88-72e710139588"
   },
   "outputs": [
    {
     "name": "stdout",
     "output_type": "stream",
     "text": [
      "📌 Train Accuracy: 0.79\n",
      "📌 Test Accuracy: 0.79\n",
      "\n",
      "Confusion Matrix:\n",
      " [[964 208]\n",
      " [214 614]]\n",
      "\n",
      "✅ 964 (True Negatives - TN): Students not placed, correctly predicted as 'Not Placed'.\n",
      "❌ 208 (False Positives - FP): Students not placed, but wrongly predicted as 'Placed'.\n",
      "❌ 214 (False Negatives - FN): Students placed but wrongly predicted as 'Not Placed'.\n",
      "✅ 614 (True Positives - TP): Students placed, correctly predicted as 'Placed'.\n",
      "\n",
      "📌 **Classification Report (With Explanation)** 📌\n",
      "\n",
      "🔹 **Class: Not Placed**\n",
      "   - 🎯 Precision: 0.82 (Correct 'Placed' predictions out of total 'Placed' predictions)\n",
      "   - 📊 Recall: 0.82 (Correctly found actual 'Placed' students.)\n",
      "   - 🔄 F1-Score: 0.82 (Balance of Precision & Recall)\n",
      "   - 🏆 Support: 1172.0 (Total students in this category)\n",
      "\n",
      "🔹 **Class: Placed**\n",
      "   - 🎯 Precision: 0.75 (Correct 'Placed' predictions out of total 'Placed' predictions)\n",
      "   - 📊 Recall: 0.74 (Correctly found actual 'Placed' students.)\n",
      "   - 🔄 F1-Score: 0.74 (Balance of Precision & Recall)\n",
      "   - 🏆 Support: 828.0 (Total students in this category)\n",
      "\n"
     ]
    }
   ],
   "source": [
    "from sklearn.metrics import accuracy_score, confusion_matrix, classification_report\n",
    "\n",
    "# Model Predictions\n",
    "y_train_pred = model.predict(X_train)\n",
    "y_test_pred = model.predict(X_test)\n",
    "\n",
    "# Accuracy for Train & Test\n",
    "print(f\"📌 Train Accuracy: {accuracy_score(y_train, y_train_pred):.2f}\")\n",
    "print(f\"📌 Test Accuracy: {accuracy_score(y_test, y_test_pred):.2f}\")\n",
    "\n",
    "# Confusion Matrix\n",
    "cm = confusion_matrix(y_test, y_test_pred)\n",
    "print(\"\\nConfusion Matrix:\\n\", cm)\n",
    "\n",
    "# Extract values\n",
    "TN, FP, FN, TP = cm.ravel()\n",
    "\n",
    "print(f\"\\n✅ {TN} (True Negatives - TN): Students not placed, correctly predicted as 'Not Placed'.\")\n",
    "print(f\"❌ {FP} (False Positives - FP): Students not placed, but wrongly predicted as 'Placed'.\")\n",
    "print(f\"❌ {FN} (False Negatives - FN): Students placed but wrongly predicted as 'Not Placed'.\")\n",
    "print(f\"✅ {TP} (True Positives - TP): Students placed, correctly predicted as 'Placed'.\\n\")\n",
    "\n",
    "# Generate Classification Report\n",
    "report_dict = classification_report(y_test, y_test_pred, target_names=[\"Not Placed\", \"Placed\"], output_dict=True)\n",
    "\n",
    "# Display classification report with explanations\n",
    "print(\"📌 **Classification Report (With Explanation)** 📌\\n\")\n",
    "\n",
    "for label, metrics in report_dict.items():\n",
    "    if label in [\"Not Placed\", \"Placed\"]:  # Ignore avg/total rows\n",
    "        print(f\"🔹 **Class: {label}**\")\n",
    "        print(f\"   - 🎯 Precision: {metrics['precision']:.2f} (Correct 'Placed' predictions out of total 'Placed' predictions)\")\n",
    "        print(f\"   - 📊 Recall: {metrics['recall']:.2f} (Correctly found actual 'Placed' students.)\")\n",
    "        print(f\"   - 🔄 F1-Score: {metrics['f1-score']:.2f} (Balance of Precision & Recall)\")\n",
    "        print(f\"   - 🏆 Support: {metrics['support']} (Total students in this category)\\n\")"
   ]
  },
  {
   "cell_type": "code",
   "execution_count": 16,
   "id": "25900e57",
   "metadata": {
    "colab": {
     "base_uri": "https://localhost:8080/",
     "height": 564
    },
    "id": "25900e57",
    "outputId": "6ce20c32-51c0-464d-a828-02bd6f9967cf"
   },
   "outputs": [
    {
     "data": {
      "image/png": "[encoded data removed]",
      "text/plain": [
       "<Figure size 1600x600 with 1 Axes>"
      ]
     },
     "metadata": {},
     "output_type": "display_data"
    }
   ],
   "source": [
    "import numpy as np\n",
    "import matplotlib.pyplot as plt\n",
    "\n",
    "# Define sigmoid function\n",
    "def sigmoid(x):\n",
    "    return 1 / (1 + np.exp(-x))\n",
    "\n",
    "# Generate values for x\n",
    "x = np.linspace(-10, 10, 100)\n",
    "y = sigmoid(x)\n",
    "\n",
    "# Set figure size\n",
    "plt.figure(figsize=(16, 6))  # Increasing frame width\n",
    "\n",
    "# Plot the sigmoid function\n",
    "plt.plot(x, y, label='Sigmoid Function')\n",
    "plt.axhline(y=0.5, color='blue', linestyle='--', label='Decision Boundary')  # Decision boundary\n",
    "plt.xlabel('x')\n",
    "plt.ylabel('Sigmoid(x)')\n",
    "plt.title('Sigmoid Function Graph')\n",
    "plt.legend()\n",
    "plt.grid()\n",
    "\n",
    "# Actual predictions based on sigmoid output\n",
    "y_pred = (y >= 0.5).astype(int)  # Applying threshold to sigmoid output\n",
    "plt.scatter(x, y_pred, color='red', label='Predictions')\n",
    "plt.legend()\n",
    "plt.show()"
   ]
  },
  {
   "cell_type": "code",
   "execution_count": null,
   "id": "aabe82d5",
   "metadata": {
    "id": "aabe82d5"
   },
   "outputs": [],
   "source": []
  },
  {
   "cell_type": "code",
   "execution_count": null,
   "id": "c6e80355-fec9-484f-9375-4f0c6941c6f6",
   "metadata": {},
   "outputs": [],
   "source": []
  }
 ],
 "metadata": {
  "colab": {
   "provenance": []
  },
  "kernelspec": {
   "display_name": "Python 3 (ipykernel)",
   "language": "python",
   "name": "python3"
  },
  "language_info": {
   "codemirror_mode": {
    "name": "ipython",
    "version": 3
   },
   "file_extension": ".py",
   "mimetype": "text/x-python",
   "name": "python",
   "nbconvert_exporter": "python",
   "pygments_lexer": "ipython3",
   "version": "3.12.7"
  }
 },
 "nbformat": 4,
 "nbformat_minor": 5
}
